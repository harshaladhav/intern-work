{
 "cells": [
  {
   "cell_type": "code",
   "execution_count": 1,
   "metadata": {},
   "outputs": [],
   "source": [
    "import requests"
   ]
  },
  {
   "cell_type": "code",
   "execution_count": 24,
   "metadata": {},
   "outputs": [
    {
     "name": "stdout",
     "output_type": "stream",
     "text": [
      "{'page': 1, 'per_page': 6, 'total': 12, 'total_pages': 2, 'data': [{'id': 1, 'email': 'george.bluth@reqres.in', 'first_name': 'George', 'last_name': 'Bluth', 'avatar': 'https://reqres.in/img/faces/1-image.jpg'}, {'id': 2, 'email': 'janet.weaver@reqres.in', 'first_name': 'Janet', 'last_name': 'Weaver', 'avatar': 'https://reqres.in/img/faces/2-image.jpg'}, {'id': 3, 'email': 'emma.wong@reqres.in', 'first_name': 'Emma', 'last_name': 'Wong', 'avatar': 'https://reqres.in/img/faces/3-image.jpg'}, {'id': 4, 'email': 'eve.holt@reqres.in', 'first_name': 'Eve', 'last_name': 'Holt', 'avatar': 'https://reqres.in/img/faces/4-image.jpg'}, {'id': 5, 'email': 'charles.morris@reqres.in', 'first_name': 'Charles', 'last_name': 'Morris', 'avatar': 'https://reqres.in/img/faces/5-image.jpg'}, {'id': 6, 'email': 'tracey.ramos@reqres.in', 'first_name': 'Tracey', 'last_name': 'Ramos', 'avatar': 'https://reqres.in/img/faces/6-image.jpg'}], 'support': {'url': 'https://reqres.in/#support-heading', 'text': 'To keep ReqRes free, contributions towards server costs are appreciated!'}}\n"
     ]
    }
   ],
   "source": [
    "#listing json user data\n",
    "query={'page':1}\n",
    "response_get = requests.get(\"https://reqres.in/api/users\",params=query)\n",
    "print(response_get.json())"
   ]
  },
  {
   "cell_type": "code",
   "execution_count": 25,
   "metadata": {},
   "outputs": [
    {
     "name": "stdout",
     "output_type": "stream",
     "text": [
      "George Bluth\n",
      "Janet Weaver\n",
      "Emma Wong\n",
      "Eve Holt\n",
      "Charles Morris\n",
      "Tracey Ramos\n"
     ]
    }
   ],
   "source": [
    "for id in response_get.json()['data']:\n",
    "    print(f\"{id['first_name']} {id['last_name']}\")"
   ]
  },
  {
   "cell_type": "code",
   "execution_count": 15,
   "metadata": {},
   "outputs": [
    {
     "name": "stdout",
     "output_type": "stream",
     "text": [
      "{'data': {'id': 2, 'email': 'janet.weaver@reqres.in', 'first_name': 'Janet', 'last_name': 'Weaver', 'avatar': 'https://reqres.in/img/faces/2-image.jpg'}, 'support': {'url': 'https://reqres.in/#support-heading', 'text': 'To keep ReqRes free, contributions towards server costs are appreciated!'}}\n"
     ]
    }
   ],
   "source": [
    "#getting a single user\n",
    "query={'id':'2'}\n",
    "response_get = requests.get(\"https://reqres.in/api/users\",params=query)\n",
    "print(response_get.json())"
   ]
  },
  {
   "cell_type": "code",
   "execution_count": 16,
   "metadata": {},
   "outputs": [
    {
     "name": "stdout",
     "output_type": "stream",
     "text": [
      "{'name': 'Harshal', 'job': 'Intern', 'id': '706', 'createdAt': '2021-09-23T09:27:39.162Z'}\n"
     ]
    }
   ],
   "source": [
    "#create data at api site\n",
    "response_post = requests.post(\"https://reqres.in/api/users\",data={'name':'Harshal','job':'Intern'})\n",
    "print(response_post.json())"
   ]
  },
  {
   "cell_type": "code",
   "execution_count": 17,
   "metadata": {},
   "outputs": [
    {
     "name": "stdout",
     "output_type": "stream",
     "text": [
      "{'name': 'Harshal', 'job': 'Intern', 'updatedAt': '2021-09-23T09:27:45.919Z'}\n"
     ]
    }
   ],
   "source": [
    "#update data -put\n",
    "response_put = requests.put(\"https://reqres.in/api/users/2\",data={'name':'Harshal','job':'Intern'})\n",
    "print(response_put.json())"
   ]
  },
  {
   "cell_type": "code",
   "execution_count": 18,
   "metadata": {},
   "outputs": [
    {
     "name": "stdout",
     "output_type": "stream",
     "text": [
      "{'name': 'Harshal', 'job': 'Intern', 'updatedAt': '2021-09-23T09:27:52.226Z'}\n"
     ]
    }
   ],
   "source": [
    "#update data -patch\n",
    "response_patch = requests.patch(\"https://reqres.in/api/users/2\",data={'name':'Harshal','job':'Intern'})\n",
    "print(response_patch.json())"
   ]
  },
  {
   "cell_type": "code",
   "execution_count": 19,
   "metadata": {},
   "outputs": [
    {
     "name": "stdout",
     "output_type": "stream",
     "text": [
      "{'id': 4, 'token': 'QpwL5tke4Pnpja7X4'}\n"
     ]
    }
   ],
   "source": [
    "#register\n",
    "response_reg = requests.post(\"https://reqres.in/api/register\",{\"email\": \"eve.holt@reqres.in\",\"password\": \"pistol\"})\n",
    "print(response_reg.json())"
   ]
  },
  {
   "cell_type": "code",
   "execution_count": 20,
   "metadata": {},
   "outputs": [
    {
     "name": "stdout",
     "output_type": "stream",
     "text": [
      "{'token': 'QpwL5tke4Pnpja7X4'}\n"
     ]
    }
   ],
   "source": [
    "#login\n",
    "response_login = requests.post(\"https://reqres.in/api/login\",{\"email\": \"eve.holt@reqres.in\",\"password\": \"pistol\"})\n",
    "print(response_login.json())"
   ]
  },
  {
   "cell_type": "code",
   "execution_count": 21,
   "metadata": {},
   "outputs": [
    {
     "name": "stdout",
     "output_type": "stream",
     "text": [
      "<Response [204]>\n"
     ]
    }
   ],
   "source": [
    "#delete\n",
    "response_delete = requests.delete(\"https://reqres.in/api/users/2\")\n",
    "print(response_delete)"
   ]
  },
  {
   "cell_type": "code",
   "execution_count": null,
   "metadata": {},
   "outputs": [],
   "source": []
  }
 ],
 "metadata": {
  "kernelspec": {
   "display_name": "Python 3",
   "language": "python",
   "name": "python3"
  },
  "language_info": {
   "codemirror_mode": {
    "name": "ipython",
    "version": 3
   },
   "file_extension": ".py",
   "mimetype": "text/x-python",
   "name": "python",
   "nbconvert_exporter": "python",
   "pygments_lexer": "ipython3",
   "version": "3.7.3"
  }
 },
 "nbformat": 4,
 "nbformat_minor": 2
}
